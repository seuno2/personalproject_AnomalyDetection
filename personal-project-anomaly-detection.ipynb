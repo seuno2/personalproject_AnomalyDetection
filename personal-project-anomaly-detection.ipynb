{
 "cells": [
  {
   "cell_type": "code",
   "execution_count": 1,
   "id": "ee162669",
   "metadata": {
    "_cell_guid": "b1076dfc-b9ad-4769-8c92-a6c4dae69d19",
    "_uuid": "8f2839f25d086af736a60e9eeb907d3b93b6e0e5",
    "execution": {
     "iopub.execute_input": "2023-04-08T16:50:25.183498Z",
     "iopub.status.busy": "2023-04-08T16:50:25.182489Z",
     "iopub.status.idle": "2023-04-08T16:50:25.244162Z",
     "shell.execute_reply": "2023-04-08T16:50:25.242496Z"
    },
    "papermill": {
     "duration": 0.073444,
     "end_time": "2023-04-08T16:50:25.247178",
     "exception": false,
     "start_time": "2023-04-08T16:50:25.173734",
     "status": "completed"
    },
    "tags": []
   },
   "outputs": [
    {
     "data": {
      "text/html": [
       "<style>.container {width:90% !important;}</style>"
      ],
      "text/plain": [
       "<IPython.core.display.HTML object>"
      ]
     },
     "metadata": {},
     "output_type": "display_data"
    },
    {
     "name": "stdout",
     "output_type": "stream",
     "text": [
      "/kaggle/input/skab-anomaly-detection/SKAB-master/LICENSE\n",
      "/kaggle/input/skab-anomaly-detection/SKAB-master/.gitignore\n",
      "/kaggle/input/skab-anomaly-detection/SKAB-master/README.md\n",
      "/kaggle/input/skab-anomaly-detection/SKAB-master/utils/t2.py\n",
      "/kaggle/input/skab-anomaly-detection/SKAB-master/utils/__init__.py\n",
      "/kaggle/input/skab-anomaly-detection/SKAB-master/docs/contributing.md\n",
      "/kaggle/input/skab-anomaly-detection/SKAB-master/docs/pictures/skab.png\n",
      "/kaggle/input/skab-anomaly-detection/SKAB-master/docs/pictures/testbed.png\n",
      "/kaggle/input/skab-anomaly-detection/SKAB-master/docs/pictures/nab-metric.jpg\n",
      "/kaggle/input/skab-anomaly-detection/SKAB-master/notebooks/hotelling_q.ipynb\n",
      "/kaggle/input/skab-anomaly-detection/SKAB-master/notebooks/mscred.ipynb\n",
      "/kaggle/input/skab-anomaly-detection/SKAB-master/notebooks/isolation_forest.ipynb\n",
      "/kaggle/input/skab-anomaly-detection/SKAB-master/notebooks/VAE.ipynb\n",
      "/kaggle/input/skab-anomaly-detection/SKAB-master/notebooks/LSTM-AE.ipynb\n",
      "/kaggle/input/skab-anomaly-detection/SKAB-master/notebooks/LSTM-VAE.ipynb\n",
      "/kaggle/input/skab-anomaly-detection/SKAB-master/notebooks/EDA.ipynb\n",
      "/kaggle/input/skab-anomaly-detection/SKAB-master/notebooks/README.md\n",
      "/kaggle/input/skab-anomaly-detection/SKAB-master/notebooks/hotelling.ipynb\n",
      "/kaggle/input/skab-anomaly-detection/SKAB-master/notebooks/autoencoder.ipynb\n",
      "/kaggle/input/skab-anomaly-detection/SKAB-master/notebooks/lstm.ipynb\n",
      "/kaggle/input/skab-anomaly-detection/SKAB-master/notebooks/Conv-AE.ipynb\n",
      "/kaggle/input/skab-anomaly-detection/SKAB-master/notebooks/requirements.txt\n",
      "/kaggle/input/skab-anomaly-detection/SKAB-master/notebooks/ArimaFD.ipynb\n",
      "/kaggle/input/skab-anomaly-detection/SKAB-master/notebooks/MSET.ipynb\n",
      "/kaggle/input/skab-anomaly-detection/SKAB-master/data/README.md\n",
      "/kaggle/input/skab-anomaly-detection/SKAB-master/data/Load data.ipynb\n",
      "/kaggle/input/skab-anomaly-detection/SKAB-master/data/valve2/1.csv\n",
      "/kaggle/input/skab-anomaly-detection/SKAB-master/data/valve2/3.csv\n",
      "/kaggle/input/skab-anomaly-detection/SKAB-master/data/valve2/2.csv\n",
      "/kaggle/input/skab-anomaly-detection/SKAB-master/data/valve2/0.csv\n",
      "/kaggle/input/skab-anomaly-detection/SKAB-master/data/other/1.csv\n",
      "/kaggle/input/skab-anomaly-detection/SKAB-master/data/other/11.csv\n",
      "/kaggle/input/skab-anomaly-detection/SKAB-master/data/other/3.csv\n",
      "/kaggle/input/skab-anomaly-detection/SKAB-master/data/other/5.csv\n",
      "/kaggle/input/skab-anomaly-detection/SKAB-master/data/other/2.csv\n",
      "/kaggle/input/skab-anomaly-detection/SKAB-master/data/other/13.csv\n",
      "/kaggle/input/skab-anomaly-detection/SKAB-master/data/other/14.csv\n",
      "/kaggle/input/skab-anomaly-detection/SKAB-master/data/other/4.csv\n",
      "/kaggle/input/skab-anomaly-detection/SKAB-master/data/other/8.csv\n",
      "/kaggle/input/skab-anomaly-detection/SKAB-master/data/other/12.csv\n",
      "/kaggle/input/skab-anomaly-detection/SKAB-master/data/other/9.csv\n",
      "/kaggle/input/skab-anomaly-detection/SKAB-master/data/other/7.csv\n",
      "/kaggle/input/skab-anomaly-detection/SKAB-master/data/other/6.csv\n",
      "/kaggle/input/skab-anomaly-detection/SKAB-master/data/other/10.csv\n",
      "/kaggle/input/skab-anomaly-detection/SKAB-master/data/valve1/1.csv\n",
      "/kaggle/input/skab-anomaly-detection/SKAB-master/data/valve1/11.csv\n",
      "/kaggle/input/skab-anomaly-detection/SKAB-master/data/valve1/3.csv\n",
      "/kaggle/input/skab-anomaly-detection/SKAB-master/data/valve1/5.csv\n",
      "/kaggle/input/skab-anomaly-detection/SKAB-master/data/valve1/2.csv\n",
      "/kaggle/input/skab-anomaly-detection/SKAB-master/data/valve1/13.csv\n",
      "/kaggle/input/skab-anomaly-detection/SKAB-master/data/valve1/14.csv\n",
      "/kaggle/input/skab-anomaly-detection/SKAB-master/data/valve1/4.csv\n",
      "/kaggle/input/skab-anomaly-detection/SKAB-master/data/valve1/8.csv\n",
      "/kaggle/input/skab-anomaly-detection/SKAB-master/data/valve1/12.csv\n",
      "/kaggle/input/skab-anomaly-detection/SKAB-master/data/valve1/9.csv\n",
      "/kaggle/input/skab-anomaly-detection/SKAB-master/data/valve1/7.csv\n",
      "/kaggle/input/skab-anomaly-detection/SKAB-master/data/valve1/0.csv\n",
      "/kaggle/input/skab-anomaly-detection/SKAB-master/data/valve1/15.csv\n",
      "/kaggle/input/skab-anomaly-detection/SKAB-master/data/valve1/6.csv\n",
      "/kaggle/input/skab-anomaly-detection/SKAB-master/data/valve1/10.csv\n",
      "/kaggle/input/skab-anomaly-detection/SKAB-master/data/anomaly-free/anomaly-free.csv\n"
     ]
    }
   ],
   "source": [
    "from IPython.core.display import display, HTML\n",
    "display(HTML(\"<style>.container {width:90% !important;}</style>\"))\n",
    "# This Python 3 environment comes with many helpful analytics libraries installed\n",
    "# It is defined by the kaggle/python Docker image: https://github.com/kaggle/docker-python\n",
    "# For example, here's several helpful packages to load\n",
    "\n",
    "import numpy as np # linear algebra\n",
    "import pandas as pd # data processing, CSV file I/O (e.g. pd.read_csv)\n",
    "\n",
    "# Input data files are available in the read-only \"../input/\" directory\n",
    "# For example, running this (by clicking run or pressing Shift+Enter) will list all files under the input directory\n",
    "\n",
    "import os\n",
    "for dirname, _, filenames in os.walk('/kaggle/input'):\n",
    "    for filename in filenames:\n",
    "        print(os.path.join(dirname, filename))\n",
    "\n",
    "# You can write up to 20GB to the current directory (/kaggle/working/) that gets preserved as output when you create a version using \"Save & Run All\" \n",
    "# You can also write temporary files to /kaggle/temp/, but they won't be saved outside of the current session"
   ]
  },
  {
   "cell_type": "code",
   "execution_count": 2,
   "id": "9f3f094a",
   "metadata": {
    "execution": {
     "iopub.execute_input": "2023-04-08T16:50:25.260591Z",
     "iopub.status.busy": "2023-04-08T16:50:25.260164Z",
     "iopub.status.idle": "2023-04-08T16:50:33.652708Z",
     "shell.execute_reply": "2023-04-08T16:50:33.651656Z"
    },
    "papermill": {
     "duration": 8.403008,
     "end_time": "2023-04-08T16:50:33.656061",
     "exception": false,
     "start_time": "2023-04-08T16:50:25.253053",
     "status": "completed"
    },
    "tags": []
   },
   "outputs": [],
   "source": [
    "import pandas as pd\n",
    "import matplotlib.pyplot as plt\n",
    "import os\n",
    "import numpy as np\n",
    "import seaborn as sns\n",
    "\n",
    "from tensorflow import keras\n",
    "from tensorflow.keras import layers\n",
    "from sklearn.metrics import mean_absolute_error, mean_squared_error \n",
    "from sklearn.model_selection import train_test_split\n",
    "from sklearn.preprocessing import StandardScaler "
   ]
  },
  {
   "cell_type": "markdown",
   "id": "7c236da7",
   "metadata": {
    "papermill": {
     "duration": 0.006652,
     "end_time": "2023-04-08T16:50:33.671175",
     "exception": false,
     "start_time": "2023-04-08T16:50:33.664523",
     "status": "completed"
    },
    "tags": []
   },
   "source": [
    "* ###  Data Summary"
   ]
  },
  {
   "cell_type": "code",
   "execution_count": 3,
   "id": "ea80738a",
   "metadata": {
    "execution": {
     "iopub.execute_input": "2023-04-08T16:50:33.685089Z",
     "iopub.status.busy": "2023-04-08T16:50:33.683723Z",
     "iopub.status.idle": "2023-04-08T16:50:34.068860Z",
     "shell.execute_reply": "2023-04-08T16:50:34.067642Z"
    },
    "papermill": {
     "duration": 0.395119,
     "end_time": "2023-04-08T16:50:34.071874",
     "exception": false,
     "start_time": "2023-04-08T16:50:33.676755",
     "status": "completed"
    },
    "tags": []
   },
   "outputs": [],
   "source": [
    "#Path of data files\n",
    "all_files =[]\n",
    "for root, dirs, files in os.walk('/kaggle/input/skab-anomaly-detection/SKAB-master/data/'):\n",
    "    for file in files:\n",
    "        if file.endswith('.csv'):\n",
    "            all_files.append(os.path.join(root,file))\n",
    "\n",
    "#Data with outliers included         \n",
    "list_of_df = [pd.read_csv(file,\n",
    "                            sep = ';',\n",
    "                            index_col = 'datetime',\n",
    "                            ) for file in all_files if 'anomaly-free' not in file]\n",
    "\n",
    "#Anomaly free data\n",
    "anomaly_free_df = pd.read_csv([file for file in all_files if 'anomaly-free' in file][0],\n",
    "                             sep = ';',\n",
    "                             index_col = 'datetime')\n",
    "\n"
   ]
  },
  {
   "cell_type": "code",
   "execution_count": 4,
   "id": "d975c3e6",
   "metadata": {
    "execution": {
     "iopub.execute_input": "2023-04-08T16:50:34.085372Z",
     "iopub.status.busy": "2023-04-08T16:50:34.084927Z",
     "iopub.status.idle": "2023-04-08T16:50:34.156072Z",
     "shell.execute_reply": "2023-04-08T16:50:34.154498Z"
    },
    "papermill": {
     "duration": 0.08085,
     "end_time": "2023-04-08T16:50:34.158587",
     "exception": false,
     "start_time": "2023-04-08T16:50:34.077737",
     "status": "completed"
    },
    "tags": []
   },
   "outputs": [
    {
     "name": "stdout",
     "output_type": "stream",
     "text": [
      "이상치 포함된 DataFrame 34개\n",
      "Accelerometer1RMS (1063, 10)\n",
      "Accelerometer1RMS (995, 10)\n",
      "Accelerometer1RMS (1129, 10)\n",
      "Accelerometer1RMS (1125, 10)\n",
      "Accelerometer1RMS (745, 10)\n",
      "Accelerometer1RMS (1190, 10)\n",
      "Accelerometer1RMS (1137, 10)\n",
      "Accelerometer1RMS (1155, 10)\n",
      "Accelerometer1RMS (780, 10)\n",
      "Accelerometer1RMS (923, 10)\n",
      "Accelerometer1RMS (905, 10)\n",
      "Accelerometer1RMS (1191, 10)\n",
      "Accelerometer1RMS (1147, 10)\n",
      "Accelerometer1RMS (1048, 10)\n",
      "Accelerometer1RMS (1144, 10)\n",
      "Accelerometer1RMS (1090, 10)\n",
      "Accelerometer1RMS (1147, 10)\n",
      "Accelerometer1RMS (1327, 10)\n",
      "Accelerometer1RMS (1145, 10)\n",
      "Accelerometer1RMS (1141, 10)\n",
      "Accelerometer1RMS (1148, 10)\n",
      "Accelerometer1RMS (1154, 10)\n",
      "Accelerometer1RMS (1075, 10)\n",
      "Accelerometer1RMS (1140, 10)\n",
      "Accelerometer1RMS (1139, 10)\n",
      "Accelerometer1RMS (1095, 10)\n",
      "Accelerometer1RMS (1144, 10)\n",
      "Accelerometer1RMS (1140, 10)\n",
      "Accelerometer1RMS (1148, 10)\n",
      "Accelerometer1RMS (1094, 10)\n",
      "Accelerometer1RMS (1147, 10)\n",
      "Accelerometer1RMS (1150, 10)\n",
      "Accelerometer1RMS (1154, 10)\n",
      "Accelerometer1RMS (1146, 10)\n",
      "Number of change points : 129\n",
      "Number of outliers : 13067\n",
      "\n",
      "이상치 없는 데이터\n",
      "                     Accelerometer1RMS  Accelerometer2RMS  Current  Pressure  \\\n",
      "datetime                                                                       \n",
      "2020-02-08 13:30:47           0.202394           0.275154  2.16975  0.382638   \n",
      "2020-02-08 13:30:48           0.203153           0.277857  2.07999 -0.273216   \n",
      "2020-02-08 13:30:50           0.202054           0.275790  2.52577  0.382638   \n",
      "2020-02-08 13:30:51           0.203595           0.278101  2.49742  0.054711   \n",
      "2020-02-08 13:30:52           0.201889           0.276363  2.29194  0.710565   \n",
      "...                                ...                ...      ...       ...   \n",
      "2020-02-08 16:16:43           0.225744           0.267921  2.91598  0.054711   \n",
      "2020-02-08 16:16:44           0.205870           0.258370  1.71505  0.710565   \n",
      "2020-02-08 16:16:45           0.219222           0.267244  2.35834 -0.273216   \n",
      "2020-02-08 16:16:46           0.219481           0.271278  2.49108  0.054711   \n",
      "2020-02-08 16:16:47           0.219436           0.270046  2.43108  0.382638   \n",
      "\n",
      "                     Temperature  Thermocouple  Voltage  Volume Flow RateRMS  \n",
      "datetime                                                                      \n",
      "2020-02-08 13:30:47      90.6454       26.8508  238.852              122.664  \n",
      "2020-02-08 13:30:48      90.7978       26.8639  227.943              122.338  \n",
      "2020-02-08 13:30:50      90.7730       26.8603  223.486              121.338  \n",
      "2020-02-08 13:30:51      90.8424       26.8616  244.904              121.664  \n",
      "2020-02-08 13:30:52      90.6664       26.8603  239.196              122.000  \n",
      "...                          ...           ...      ...                  ...  \n",
      "2020-02-08 16:16:43      88.8593       29.3792  219.542              126.000  \n",
      "2020-02-08 16:16:44      89.1754       29.3692  221.862              126.000  \n",
      "2020-02-08 16:16:45      89.1306       29.3674  226.050              126.679  \n",
      "2020-02-08 16:16:46      88.5447       29.3757  226.343              127.000  \n",
      "2020-02-08 16:16:47      89.1161       29.3687  205.473              125.648  \n",
      "\n",
      "[9405 rows x 8 columns]\n"
     ]
    },
    {
     "data": {
      "text/html": [
       "<div>\n",
       "<style scoped>\n",
       "    .dataframe tbody tr th:only-of-type {\n",
       "        vertical-align: middle;\n",
       "    }\n",
       "\n",
       "    .dataframe tbody tr th {\n",
       "        vertical-align: top;\n",
       "    }\n",
       "\n",
       "    .dataframe thead th {\n",
       "        text-align: right;\n",
       "    }\n",
       "</style>\n",
       "<table border=\"1\" class=\"dataframe\">\n",
       "  <thead>\n",
       "    <tr style=\"text-align: right;\">\n",
       "      <th></th>\n",
       "      <th>Accelerometer1RMS</th>\n",
       "      <th>Accelerometer2RMS</th>\n",
       "      <th>Current</th>\n",
       "      <th>Pressure</th>\n",
       "      <th>Temperature</th>\n",
       "      <th>Thermocouple</th>\n",
       "      <th>Voltage</th>\n",
       "      <th>Volume Flow RateRMS</th>\n",
       "      <th>anomaly</th>\n",
       "      <th>changepoint</th>\n",
       "    </tr>\n",
       "    <tr>\n",
       "      <th>datetime</th>\n",
       "      <th></th>\n",
       "      <th></th>\n",
       "      <th></th>\n",
       "      <th></th>\n",
       "      <th></th>\n",
       "      <th></th>\n",
       "      <th></th>\n",
       "      <th></th>\n",
       "      <th></th>\n",
       "      <th></th>\n",
       "    </tr>\n",
       "  </thead>\n",
       "  <tbody>\n",
       "    <tr>\n",
       "      <th>2020-03-09 16:56:31</th>\n",
       "      <td>0.027495</td>\n",
       "      <td>0.039593</td>\n",
       "      <td>0.939237</td>\n",
       "      <td>0.054711</td>\n",
       "      <td>69.1741</td>\n",
       "      <td>24.1655</td>\n",
       "      <td>238.008</td>\n",
       "      <td>32.0000</td>\n",
       "      <td>0.0</td>\n",
       "      <td>0.0</td>\n",
       "    </tr>\n",
       "    <tr>\n",
       "      <th>2020-03-09 16:56:32</th>\n",
       "      <td>0.027394</td>\n",
       "      <td>0.040137</td>\n",
       "      <td>1.235540</td>\n",
       "      <td>0.054711</td>\n",
       "      <td>69.0063</td>\n",
       "      <td>24.1664</td>\n",
       "      <td>229.409</td>\n",
       "      <td>32.0000</td>\n",
       "      <td>0.0</td>\n",
       "      <td>0.0</td>\n",
       "    </tr>\n",
       "    <tr>\n",
       "      <th>2020-03-09 16:56:33</th>\n",
       "      <td>0.027292</td>\n",
       "      <td>0.040152</td>\n",
       "      <td>1.331430</td>\n",
       "      <td>0.054711</td>\n",
       "      <td>69.0291</td>\n",
       "      <td>24.1567</td>\n",
       "      <td>241.450</td>\n",
       "      <td>32.0000</td>\n",
       "      <td>0.0</td>\n",
       "      <td>0.0</td>\n",
       "    </tr>\n",
       "    <tr>\n",
       "      <th>2020-03-09 16:56:34</th>\n",
       "      <td>0.027325</td>\n",
       "      <td>0.038464</td>\n",
       "      <td>1.256480</td>\n",
       "      <td>-0.273216</td>\n",
       "      <td>68.9928</td>\n",
       "      <td>24.1582</td>\n",
       "      <td>250.288</td>\n",
       "      <td>32.0431</td>\n",
       "      <td>0.0</td>\n",
       "      <td>0.0</td>\n",
       "    </tr>\n",
       "    <tr>\n",
       "      <th>2020-03-09 16:56:35</th>\n",
       "      <td>0.027303</td>\n",
       "      <td>0.036969</td>\n",
       "      <td>1.355950</td>\n",
       "      <td>0.054711</td>\n",
       "      <td>68.9590</td>\n",
       "      <td>24.1562</td>\n",
       "      <td>240.265</td>\n",
       "      <td>32.9581</td>\n",
       "      <td>0.0</td>\n",
       "      <td>0.0</td>\n",
       "    </tr>\n",
       "    <tr>\n",
       "      <th>...</th>\n",
       "      <td>...</td>\n",
       "      <td>...</td>\n",
       "      <td>...</td>\n",
       "      <td>...</td>\n",
       "      <td>...</td>\n",
       "      <td>...</td>\n",
       "      <td>...</td>\n",
       "      <td>...</td>\n",
       "      <td>...</td>\n",
       "      <td>...</td>\n",
       "    </tr>\n",
       "    <tr>\n",
       "      <th>2020-03-09 17:14:04</th>\n",
       "      <td>0.026853</td>\n",
       "      <td>0.038926</td>\n",
       "      <td>0.740614</td>\n",
       "      <td>0.054711</td>\n",
       "      <td>69.6371</td>\n",
       "      <td>24.1045</td>\n",
       "      <td>237.276</td>\n",
       "      <td>32.0451</td>\n",
       "      <td>0.0</td>\n",
       "      <td>0.0</td>\n",
       "    </tr>\n",
       "    <tr>\n",
       "      <th>2020-03-09 17:14:05</th>\n",
       "      <td>0.027067</td>\n",
       "      <td>0.038430</td>\n",
       "      <td>0.988875</td>\n",
       "      <td>0.054711</td>\n",
       "      <td>69.6731</td>\n",
       "      <td>24.1046</td>\n",
       "      <td>230.729</td>\n",
       "      <td>32.9562</td>\n",
       "      <td>0.0</td>\n",
       "      <td>0.0</td>\n",
       "    </tr>\n",
       "    <tr>\n",
       "      <th>2020-03-09 17:14:07</th>\n",
       "      <td>0.027582</td>\n",
       "      <td>0.038836</td>\n",
       "      <td>0.588439</td>\n",
       "      <td>0.054711</td>\n",
       "      <td>69.6959</td>\n",
       "      <td>24.1020</td>\n",
       "      <td>233.443</td>\n",
       "      <td>32.0000</td>\n",
       "      <td>0.0</td>\n",
       "      <td>0.0</td>\n",
       "    </tr>\n",
       "    <tr>\n",
       "      <th>2020-03-09 17:14:08</th>\n",
       "      <td>0.027406</td>\n",
       "      <td>0.038133</td>\n",
       "      <td>0.989732</td>\n",
       "      <td>-0.273216</td>\n",
       "      <td>69.6293</td>\n",
       "      <td>24.1020</td>\n",
       "      <td>238.930</td>\n",
       "      <td>32.0000</td>\n",
       "      <td>0.0</td>\n",
       "      <td>0.0</td>\n",
       "    </tr>\n",
       "    <tr>\n",
       "      <th>2020-03-09 17:14:09</th>\n",
       "      <td>0.027102</td>\n",
       "      <td>0.039890</td>\n",
       "      <td>0.558126</td>\n",
       "      <td>-0.273216</td>\n",
       "      <td>69.7253</td>\n",
       "      <td>24.0972</td>\n",
       "      <td>219.653</td>\n",
       "      <td>32.0000</td>\n",
       "      <td>0.0</td>\n",
       "      <td>0.0</td>\n",
       "    </tr>\n",
       "  </tbody>\n",
       "</table>\n",
       "<p>995 rows × 10 columns</p>\n",
       "</div>"
      ],
      "text/plain": [
       "                     Accelerometer1RMS  Accelerometer2RMS   Current  Pressure  \\\n",
       "datetime                                                                        \n",
       "2020-03-09 16:56:31           0.027495           0.039593  0.939237  0.054711   \n",
       "2020-03-09 16:56:32           0.027394           0.040137  1.235540  0.054711   \n",
       "2020-03-09 16:56:33           0.027292           0.040152  1.331430  0.054711   \n",
       "2020-03-09 16:56:34           0.027325           0.038464  1.256480 -0.273216   \n",
       "2020-03-09 16:56:35           0.027303           0.036969  1.355950  0.054711   \n",
       "...                                ...                ...       ...       ...   \n",
       "2020-03-09 17:14:04           0.026853           0.038926  0.740614  0.054711   \n",
       "2020-03-09 17:14:05           0.027067           0.038430  0.988875  0.054711   \n",
       "2020-03-09 17:14:07           0.027582           0.038836  0.588439  0.054711   \n",
       "2020-03-09 17:14:08           0.027406           0.038133  0.989732 -0.273216   \n",
       "2020-03-09 17:14:09           0.027102           0.039890  0.558126 -0.273216   \n",
       "\n",
       "                     Temperature  Thermocouple  Voltage  Volume Flow RateRMS  \\\n",
       "datetime                                                                       \n",
       "2020-03-09 16:56:31      69.1741       24.1655  238.008              32.0000   \n",
       "2020-03-09 16:56:32      69.0063       24.1664  229.409              32.0000   \n",
       "2020-03-09 16:56:33      69.0291       24.1567  241.450              32.0000   \n",
       "2020-03-09 16:56:34      68.9928       24.1582  250.288              32.0431   \n",
       "2020-03-09 16:56:35      68.9590       24.1562  240.265              32.9581   \n",
       "...                          ...           ...      ...                  ...   \n",
       "2020-03-09 17:14:04      69.6371       24.1045  237.276              32.0451   \n",
       "2020-03-09 17:14:05      69.6731       24.1046  230.729              32.9562   \n",
       "2020-03-09 17:14:07      69.6959       24.1020  233.443              32.0000   \n",
       "2020-03-09 17:14:08      69.6293       24.1020  238.930              32.0000   \n",
       "2020-03-09 17:14:09      69.7253       24.0972  219.653              32.0000   \n",
       "\n",
       "                     anomaly  changepoint  \n",
       "datetime                                   \n",
       "2020-03-09 16:56:31      0.0          0.0  \n",
       "2020-03-09 16:56:32      0.0          0.0  \n",
       "2020-03-09 16:56:33      0.0          0.0  \n",
       "2020-03-09 16:56:34      0.0          0.0  \n",
       "2020-03-09 16:56:35      0.0          0.0  \n",
       "...                      ...          ...  \n",
       "2020-03-09 17:14:04      0.0          0.0  \n",
       "2020-03-09 17:14:05      0.0          0.0  \n",
       "2020-03-09 17:14:07      0.0          0.0  \n",
       "2020-03-09 17:14:08      0.0          0.0  \n",
       "2020-03-09 17:14:09      0.0          0.0  \n",
       "\n",
       "[995 rows x 10 columns]"
      ]
     },
     "metadata": {},
     "output_type": "display_data"
    }
   ],
   "source": [
    "print('이상치 포함된 DataFrame {}개'.format(len(list_of_df)))\n",
    "for i in range(len(list_of_df)) : print(list_of_df[i].columns[0], list_of_df[i].shape)\n",
    "print('Number of change points :',sum([len(df[df.changepoint == 1.0])for df in list_of_df]) )\n",
    "print('Number of outliers :',sum([len(df[df.anomaly == 1.0])for df in list_of_df]) )\n",
    "print('\\n이상치 없는 데이터')\n",
    "print(anomaly_free_df)\n",
    "\n",
    "df = list_of_df[1] #두번째 데이터로 실험진행\n",
    "display(df)"
   ]
  },
  {
   "cell_type": "markdown",
   "id": "ad5119c0",
   "metadata": {
    "papermill": {
     "duration": 0.005811,
     "end_time": "2023-04-08T16:50:34.170599",
     "exception": false,
     "start_time": "2023-04-08T16:50:34.164788",
     "status": "completed"
    },
    "tags": []
   },
   "source": [
    "### 센서값 시각화"
   ]
  },
  {
   "cell_type": "code",
   "execution_count": 5,
   "id": "75a37fdc",
   "metadata": {
    "execution": {
     "iopub.execute_input": "2023-04-08T16:50:34.184939Z",
     "iopub.status.busy": "2023-04-08T16:50:34.184531Z",
     "iopub.status.idle": "2023-04-08T16:50:34.571647Z",
     "shell.execute_reply": "2023-04-08T16:50:34.570325Z"
    },
    "papermill": {
     "duration": 0.397548,
     "end_time": "2023-04-08T16:50:34.574308",
     "exception": false,
     "start_time": "2023-04-08T16:50:34.176760",
     "status": "completed"
    },
    "tags": []
   },
   "outputs": [
    {
     "data": {
      "image/png": "[encoded data removed]",
      "text/plain": [
       "<Figure size 864x432 with 1 Axes>"
      ]
     },
     "metadata": {
      "needs_background": "light"
     },
     "output_type": "display_data"
    }
   ],
   "source": [
    "#시각화\n",
    "df.plot(figsize = (12,6))\n",
    "plt.xlabel('Time')\n",
    "plt.ylabel('Value')\n",
    "plt.title('Signals Visualization')\n",
    "plt.show()"
   ]
  },
  {
   "cell_type": "code",
   "execution_count": 6,
   "id": "a9235280",
   "metadata": {
    "execution": {
     "iopub.execute_input": "2023-04-08T16:50:34.591903Z",
     "iopub.status.busy": "2023-04-08T16:50:34.590619Z",
     "iopub.status.idle": "2023-04-08T16:50:34.765549Z",
     "shell.execute_reply": "2023-04-08T16:50:34.764323Z"
    },
    "papermill": {
     "duration": 0.186205,
     "end_time": "2023-04-08T16:50:34.768157",
     "exception": false,
     "start_time": "2023-04-08T16:50:34.581952",
     "status": "completed"
    },
    "tags": []
   },
   "outputs": [
    {
     "data": {
      "image/png": "[encoded data removed]",
      "text/plain": [
       "<Figure size 864x216 with 1 Axes>"
      ]
     },
     "metadata": {
      "needs_background": "light"
     },
     "output_type": "display_data"
    }
   ],
   "source": [
    "#데이터 분포 확인\n",
    "df['anomaly'].plot(figsize = (12,3))\n",
    "df['changepoint'].plot()\n",
    "plt.legend()\n",
    "plt.title('Distribution of Outliers ')\n",
    "plt.show()\n"
   ]
  },
  {
   "cell_type": "markdown",
   "id": "1dbf6a70",
   "metadata": {
    "papermill": {
     "duration": 0.007943,
     "end_time": "2023-04-08T16:50:34.784112",
     "exception": false,
     "start_time": "2023-04-08T16:50:34.776169",
     "status": "completed"
    },
    "tags": []
   },
   "source": [
    "* ### Model Pipeline and Preprocessing\n"
   ]
  },
  {
   "cell_type": "code",
   "execution_count": 7,
   "id": "5e8bd494",
   "metadata": {
    "execution": {
     "iopub.execute_input": "2023-04-08T16:50:34.802258Z",
     "iopub.status.busy": "2023-04-08T16:50:34.801523Z",
     "iopub.status.idle": "2023-04-08T16:50:34.808240Z",
     "shell.execute_reply": "2023-04-08T16:50:34.807291Z"
    },
    "papermill": {
     "duration": 0.018835,
     "end_time": "2023-04-08T16:50:34.810851",
     "exception": false,
     "start_time": "2023-04-08T16:50:34.792016",
     "status": "completed"
    },
    "tags": []
   },
   "outputs": [],
   "source": [
    "# Random Seed\n",
    "def Random(seed_value):\n",
    "    import os\n",
    "    os.environ['PYTHONHASHSEED'] = str(seed_value)\n",
    "    import random\n",
    "    random.seed(seed_value)\n",
    "    np.random.seed(seed_value)\n",
    "    import tensorflow as tf\n",
    "    tf.random.set_seed(seed_value)"
   ]
  },
  {
   "cell_type": "code",
   "execution_count": 8,
   "id": "ef41b147",
   "metadata": {
    "execution": {
     "iopub.execute_input": "2023-04-08T16:50:34.828599Z",
     "iopub.status.busy": "2023-04-08T16:50:34.827775Z",
     "iopub.status.idle": "2023-04-08T16:50:34.838350Z",
     "shell.execute_reply": "2023-04-08T16:50:34.837503Z"
    },
    "papermill": {
     "duration": 0.02233,
     "end_time": "2023-04-08T16:50:34.840902",
     "exception": false,
     "start_time": "2023-04-08T16:50:34.818572",
     "status": "completed"
    },
    "tags": []
   },
   "outputs": [],
   "source": [
    "#Convolutional AutoEncoder\n",
    "def convae(data):\n",
    "\n",
    "    model = keras.Sequential([ \n",
    "        \n",
    "        layers.Input(shape = (data.shape[1], data.shape[2])),\n",
    "        layers.Conv1D(filters = 32, kernel_size = 7, padding = 'same', strides = 2, activation = 'relu' ),\n",
    "        layers.Conv1D(filters = 16, kernel_size = 7, padding = 'same', strides = 2, activation = 'relu' ),\n",
    "        layers.Conv1DTranspose(filters = 16, kernel_size = 7, padding = 'same', strides = 2, activation = 'relu' ),\n",
    "        layers.Conv1DTranspose(filters = 32, kernel_size = 7, padding = 'same', strides = 2, activation = 'relu' ),\n",
    "        layers.Conv1DTranspose(filters = 8, kernel_size = 7, padding = 'same'),  # shape 일치시키기 위한 layer(오토인코더 구조) \n",
    "    \n",
    "    ])\n",
    "\n",
    "    model.compile(optimizer = keras.optimizers.Adam(learning_rate = 0.001), loss = 'mse')\n",
    "    model.summary()\n",
    "\n",
    "    # Training\n",
    "    history = model.fit(        \n",
    "        data,\n",
    "        data, # 오토인코더(비지도학습) input -> input'\n",
    "        epochs = 100,\n",
    "        batch_size = 32,\n",
    "        verbose = 0,\n",
    "\n",
    "        # early stopping 자동 학습 중단. patience 5번 loss 상승없으면 중단\n",
    "        callbacks = [\n",
    "            keras.callbacks.EarlyStopping(monitor = 'val_loss', patience = 5, verbose = 0)\n",
    "        ]\n",
    "\n",
    "    )\n",
    "    return history, model"
   ]
  },
  {
   "cell_type": "code",
   "execution_count": 9,
   "id": "2f7cf097",
   "metadata": {
    "execution": {
     "iopub.execute_input": "2023-04-08T16:50:34.858430Z",
     "iopub.status.busy": "2023-04-08T16:50:34.857599Z",
     "iopub.status.idle": "2023-04-08T16:50:34.868303Z",
     "shell.execute_reply": "2023-04-08T16:50:34.867415Z"
    },
    "papermill": {
     "duration": 0.022428,
     "end_time": "2023-04-08T16:50:34.870938",
     "exception": false,
     "start_time": "2023-04-08T16:50:34.848510",
     "status": "completed"
    },
    "tags": []
   },
   "outputs": [],
   "source": [
    "#Preprocessing\n",
    "X_train = df[:400].drop(columns = ['anomaly','changepoint'], axis = 1) ##0~400번까지 모두 정상데이터이므로 학습데이터로 선정\n",
    "StSc = StandardScaler()\n",
    "X_train_scale = StSc.fit(X_train)   ## Standardization(표준) : train data의 평균, 분산분포를 저장. 추후에 test data에도 똑같이 적용필요\n",
    "X_train_scale = StSc.transform(X_train)\n"
   ]
  },
  {
   "cell_type": "markdown",
   "id": "488cb71f",
   "metadata": {
    "papermill": {
     "duration": 0.007416,
     "end_time": "2023-04-08T16:50:34.886079",
     "exception": false,
     "start_time": "2023-04-08T16:50:34.878663",
     "status": "completed"
    },
    "tags": []
   },
   "source": [
    "### Sequential data &rarr; sliding window(size=60) "
   ]
  },
  {
   "cell_type": "code",
   "execution_count": 10,
   "id": "de539cef",
   "metadata": {
    "execution": {
     "iopub.execute_input": "2023-04-08T16:50:34.903471Z",
     "iopub.status.busy": "2023-04-08T16:50:34.903036Z",
     "iopub.status.idle": "2023-04-08T16:50:34.914315Z",
     "shell.execute_reply": "2023-04-08T16:50:34.913135Z"
    },
    "papermill": {
     "duration": 0.022573,
     "end_time": "2023-04-08T16:50:34.916679",
     "exception": false,
     "start_time": "2023-04-08T16:50:34.894106",
     "status": "completed"
    },
    "tags": []
   },
   "outputs": [
    {
     "data": {
      "text/plain": [
       "(341, 60, 8)"
      ]
     },
     "execution_count": 10,
     "metadata": {},
     "output_type": "execute_result"
    }
   ],
   "source": [
    "def create_sequences(data, time_steps = 60):\n",
    "    out = []\n",
    "    for i in range(len(data) - time_steps + 1):\n",
    "        out.append(data[i : (i + time_steps)])\n",
    "    return np.stack(out)\n",
    "\n",
    "X_train_seq = create_sequences(X_train_scale,60) #400의 정상데이터를 60개의 묶음으로 1씩 shift 하며 묶음 -> 341개의 sequential data\n",
    "X_train_seq.shape "
   ]
  },
  {
   "cell_type": "code",
   "execution_count": 11,
   "id": "65646f6b",
   "metadata": {
    "execution": {
     "iopub.execute_input": "2023-04-08T16:50:34.934516Z",
     "iopub.status.busy": "2023-04-08T16:50:34.934051Z",
     "iopub.status.idle": "2023-04-08T16:50:46.414769Z",
     "shell.execute_reply": "2023-04-08T16:50:46.413433Z"
    },
    "papermill": {
     "duration": 11.493132,
     "end_time": "2023-04-08T16:50:46.417720",
     "exception": false,
     "start_time": "2023-04-08T16:50:34.924588",
     "status": "completed"
    },
    "tags": []
   },
   "outputs": [
    {
     "name": "stdout",
     "output_type": "stream",
     "text": [
      "Model: \"sequential\"\n",
      "_________________________________________________________________\n",
      "Layer (type)                 Output Shape              Param #   \n",
      "=================================================================\n",
      "conv1d (Conv1D)              (None, 30, 32)            1824      \n",
      "_________________________________________________________________\n",
      "conv1d_1 (Conv1D)            (None, 15, 16)            3600      \n",
      "_________________________________________________________________\n",
      "conv1d_transpose (Conv1DTran (None, 30, 16)            1808      \n",
      "_________________________________________________________________\n",
      "conv1d_transpose_1 (Conv1DTr (None, 60, 32)            3616      \n",
      "_________________________________________________________________\n",
      "conv1d_transpose_2 (Conv1DTr (None, 60, 8)             1800      \n",
      "=================================================================\n",
      "Total params: 12,648\n",
      "Trainable params: 12,648\n",
      "Non-trainable params: 0\n",
      "_________________________________________________________________\n"
     ]
    }
   ],
   "source": [
    "history, model = convae(X_train_seq)"
   ]
  },
  {
   "cell_type": "markdown",
   "id": "43b7fd29",
   "metadata": {
    "papermill": {
     "duration": 0.007614,
     "end_time": "2023-04-08T16:50:46.433993",
     "exception": false,
     "start_time": "2023-04-08T16:50:46.426379",
     "status": "completed"
    },
    "tags": []
   },
   "source": [
    "* ### Anomaly Scoring & Result"
   ]
  },
  {
   "cell_type": "code",
   "execution_count": 12,
   "id": "3c668b83",
   "metadata": {
    "execution": {
     "iopub.execute_input": "2023-04-08T16:50:46.451236Z",
     "iopub.status.busy": "2023-04-08T16:50:46.450786Z",
     "iopub.status.idle": "2023-04-08T16:50:46.907423Z",
     "shell.execute_reply": "2023-04-08T16:50:46.906429Z"
    },
    "papermill": {
     "duration": 0.46831,
     "end_time": "2023-04-08T16:50:46.909952",
     "exception": false,
     "start_time": "2023-04-08T16:50:46.441642",
     "status": "completed"
    },
    "tags": []
   },
   "outputs": [
    {
     "data": {
      "image/png": "[encoded data removed]",
      "text/plain": [
       "<Figure size 432x288 with 1 Axes>"
      ]
     },
     "metadata": {
      "needs_background": "light"
     },
     "output_type": "display_data"
    }
   ],
   "source": [
    "residuals = pd.Series(np.sum(np.mean(np.abs(X_train_seq - model.predict(X_train_seq)), axis = 1), axis = 1)) # input data와 reconstructed input의 차이값 평균의 합\n",
    "ucl = residuals.quantile(0.999) # 차이값의 전체 분포에서 상위 0.01% 지점을 upper control limit으로 지정\n",
    "plt.plot(residuals) ## value gap between the original input and the reconstructed input (anomaly-free data)\n",
    "plt.show()"
   ]
  },
  {
   "cell_type": "code",
   "execution_count": 13,
   "id": "933e0517",
   "metadata": {
    "execution": {
     "iopub.execute_input": "2023-04-08T16:50:46.930620Z",
     "iopub.status.busy": "2023-04-08T16:50:46.928763Z",
     "iopub.status.idle": "2023-04-08T16:50:47.430585Z",
     "shell.execute_reply": "2023-04-08T16:50:47.429388Z"
    },
    "papermill": {
     "duration": 0.513876,
     "end_time": "2023-04-08T16:50:47.432871",
     "exception": false,
     "start_time": "2023-04-08T16:50:46.918995",
     "status": "completed"
    },
    "tags": []
   },
   "outputs": [
    {
     "data": {
      "text/plain": [
       "Text(0.5, 1.0, 'Actual Label')"
      ]
     },
     "execution_count": 13,
     "metadata": {},
     "output_type": "execute_result"
    },
    {
     "data": {
      "image/png": "[encoded data removed]",
      "text/plain": [
       "<Figure size 1080x360 with 2 Axes>"
      ]
     },
     "metadata": {
      "needs_background": "light"
     },
     "output_type": "display_data"
    }
   ],
   "source": [
    "X_test_sc = StSc.transform(df.drop(columns = ['anomaly','changepoint']))  #400번째 이후의 이상치 데이터 모두 포함하여 test data 지정\n",
    "X_test_seq = create_sequences(X_test_sc)\n",
    "test_residuals = pd.Series(np.sum(np.mean(np.abs(X_test_seq - model.predict(X_test_seq)), axis = 1), axis = 1))\n",
    "plt.figure(figsize = (15,5))\n",
    "plt.subplot(1,2,1)\n",
    "plt.plot(test_residuals)\n",
    "plt.axhline(y = ucl * 1.5 , xmin = 0, xmax=len(X_train_seq),color='red')  # upper control limit 의 1.5배를 Threshold 로 설정\n",
    "plt.title('Reconstructed Residual Error')\n",
    "plt.subplot(1,2,2)\n",
    "plt.plot(df['anomaly'].values)\n",
    "plt.title('Actual Label')"
   ]
  },
  {
   "cell_type": "code",
   "execution_count": 14,
   "id": "d447e87a",
   "metadata": {
    "execution": {
     "iopub.execute_input": "2023-04-08T16:50:47.453264Z",
     "iopub.status.busy": "2023-04-08T16:50:47.452543Z",
     "iopub.status.idle": "2023-04-08T16:50:47.528635Z",
     "shell.execute_reply": "2023-04-08T16:50:47.527656Z"
    },
    "papermill": {
     "duration": 0.089401,
     "end_time": "2023-04-08T16:50:47.531261",
     "exception": false,
     "start_time": "2023-04-08T16:50:47.441860",
     "status": "completed"
    },
    "tags": []
   },
   "outputs": [],
   "source": [
    "# 비교를 위해 label값을 time 단위로 변경\n",
    "N_STEPS = 60\n",
    "anomalous_data = test_residuals > ucl * 1.5\n",
    "\n",
    "anomalous_data_indices = []\n",
    "for data_idx in range(N_STEPS - 1, len(X_test_seq) - N_STEPS + 1):\n",
    "    if np.all(anomalous_data[data_idx - N_STEPS + 1 : data_idx]):\n",
    "        anomalous_data_indices.append(data_idx)\n",
    "    "
   ]
  },
  {
   "cell_type": "code",
   "execution_count": 15,
   "id": "a14d6124",
   "metadata": {
    "execution": {
     "iopub.execute_input": "2023-04-08T16:50:47.551622Z",
     "iopub.status.busy": "2023-04-08T16:50:47.551189Z",
     "iopub.status.idle": "2023-04-08T16:50:47.767314Z",
     "shell.execute_reply": "2023-04-08T16:50:47.766142Z"
    },
    "papermill": {
     "duration": 0.229667,
     "end_time": "2023-04-08T16:50:47.770066",
     "exception": false,
     "start_time": "2023-04-08T16:50:47.540399",
     "status": "completed"
    },
    "tags": []
   },
   "outputs": [
    {
     "data": {
      "image/png": "[encoded data removed]",
      "text/plain": [
       "<Figure size 432x288 with 1 Axes>"
      ]
     },
     "metadata": {
      "needs_background": "light"
     },
     "output_type": "display_data"
    }
   ],
   "source": [
    "prediction = pd.Series(data = 0, index = df.index)\n",
    "prediction.iloc[anomalous_data_indices] = 1\n",
    "\n",
    "plt.plot(prediction.values, label = 'pred')\n",
    "plt.plot(df['anomaly'].values, label = 'label')\n",
    "plt.legend()\n",
    "plt.show()"
   ]
  }
 ],
 "metadata": {
  "kernelspec": {
   "display_name": "Python 3",
   "language": "python",
   "name": "python3"
  },
  "language_info": {
   "codemirror_mode": {
    "name": "ipython",
    "version": 3
   },
   "file_extension": ".py",
   "mimetype": "text/x-python",
   "name": "python",
   "nbconvert_exporter": "python",
   "pygments_lexer": "ipython3",
   "version": "3.7.12"
  },
  "papermill": {
   "default_parameters": {},
   "duration": 35.679423,
   "end_time": "2023-04-08T16:50:50.900963",
   "environment_variables": {},
   "exception": null,
   "input_path": "__notebook__.ipynb",
   "output_path": "__notebook__.ipynb",
   "parameters": {},
   "start_time": "2023-04-08T16:50:15.221540",
   "version": "2.3.4"
  }
 },
 "nbformat": 4,
 "nbformat_minor": 5
}
